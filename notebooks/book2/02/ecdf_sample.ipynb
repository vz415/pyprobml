{
 "cells": [
  {
   "cell_type": "code",
   "execution_count": 3,
   "id": "7d423b45",
   "metadata": {},
   "outputs": [
    {
     "name": "stderr",
     "output_type": "stream",
     "text": [
      "2022-07-08 21:14:58.392087: W tensorflow/stream_executor/platform/default/dso_loader.cc:64] Could not load dynamic library 'libcudart.so.11.0'; dlerror: libcudart.so.11.0: cannot open shared object file: No such file or directory\n",
      "WARNING:absl:No GPU/TPU found, falling back to CPU. (Set TF_CPP_MIN_LOG_LEVEL=0 and rerun for more info.)\n"
     ]
    }
   ],
   "source": [
    "# empirical cdf\n",
    "# fig 11.17 of 'Bayeysian Modeling and Computation'\n",
    "\n",
    "from jax import random\n",
    "import jax.numpy as jnp\n",
    "import matplotlib.pyplot as plt\n",
    "import seaborn as sns\n",
    "\n",
    "try:\n",
    "    from probml_utils import savefig, latexify\n",
    "except ModuleNotFoundError:\n",
    "    %pip install -qq git+https://github.com/probml/probml-utils.git\n",
    "    from probml_utils import savefig, latexify\n",
    "\n",
    "try:\n",
    "    import tensorflow_probability.substrates.jax as tfp\n",
    "except ModuleNotFoundError:\n",
    "    %pip install --upgrade tensorflow-probability\n",
    "    import tensorflow_probability.substrates.jax as tfp\n",
    "\n",
    "try:\n",
    "    import arviz as az\n",
    "except ModuleNotFoundError:\n",
    "    %pip install -qq arviz\n",
    "    import arviz as az\n",
    "\n",
    "tfd = tfp.distributions\n",
    "key = random.PRNGKey(4)"
   ]
  },
  {
   "cell_type": "code",
   "execution_count": 4,
   "id": "650fe899",
   "metadata": {},
   "outputs": [],
   "source": [
    "latexify(fig_height=4.5)"
   ]
  },
  {
   "cell_type": "code",
   "execution_count": 5,
   "id": "0c23ef5d",
   "metadata": {},
   "outputs": [
    {
     "name": "stdout",
     "output_type": "stream",
     "text": [
      "saving image to /home/tensorboy/Desktop/ecdf_sample\n",
      "Figure size: [6.  4.5]\n"
     ]
    },
    {
     "name": "stderr",
     "output_type": "stream",
     "text": [
      "/tmp/ipykernel_15468/636603487.py:37: UserWarning: Matplotlib is currently using ps, which is a non-GUI backend, so cannot show the figure.\n",
      "  plt.show()\n"
     ]
    }
   ],
   "source": [
    "keys = random.split(key, num=3)\n",
    "\n",
    "# inputs\n",
    "xs = (jnp.linspace(0, 20, 200), jnp.linspace(0, 1, 200), jnp.linspace(-4, 4, 200))\n",
    "\n",
    "# distribs\n",
    "dists = (tfd.Exponential(5), tfd.Beta(0.5, 0.5), tfd.Normal(0, 1))\n",
    "fig, ax = plt.subplots(\n",
    "    3,\n",
    "    3,\n",
    ")\n",
    "\n",
    "for idx, (dist, x, seed) in enumerate(zip(dists, xs, keys)):\n",
    "    draws = dist.sample(100000, seed=seed)\n",
    "    data = dist.cdf(draws)\n",
    "    ax[idx, 0].plot(x, dist.prob(x))\n",
    "    ax[idx, 0].set_xlabel(f\"$x_{idx+1}$\")\n",
    "    ax[idx, 0].set_ylabel(f\"$P(x_{idx+1})$\")\n",
    "\n",
    "    ax[idx, 1].plot(jnp.sort(data), jnp.linspace(0, 1, len(data)))\n",
    "    ax[idx, 1].set_xlabel(f\"$y_{idx+1}$\")\n",
    "    ax[idx, 1].set_ylabel(f\"$x_{idx+1}$\")\n",
    "\n",
    "    az.plot_kde(data, ax=ax[idx, 2])\n",
    "    ax[idx, 2].set_xlabel(f\"$y_{idx+1}$\")\n",
    "    ax[idx, 2].set_ylabel(f\"$P(y_{idx+1})$\")\n",
    "\n",
    "    if idx == 0:\n",
    "        ax[idx, 0].set_title(\"pdf(X)\")\n",
    "        ax[idx, 1].set_title(\"cdf(Y)\")\n",
    "        ax[idx, 2].set_title(\"pdf(Y)\")\n",
    "\n",
    "sns.despine()\n",
    "plt.tight_layout()\n",
    "savefig(\"ecdf_sample\")\n",
    "plt.show()"
   ]
  },
  {
   "cell_type": "code",
   "execution_count": 6,
   "id": "1f477a72",
   "metadata": {},
   "outputs": [],
   "source": [
    "latexify(width_scale_factor=3, fig_height=1.5)"
   ]
  },
  {
   "cell_type": "code",
   "execution_count": 7,
   "id": "a75ab15b",
   "metadata": {},
   "outputs": [
    {
     "name": "stdout",
     "output_type": "stream",
     "text": [
      "saving image to /home/tensorboy/Desktop/ecdf_0_pdfX\n",
      "Figure size: [2.  1.5]\n",
      "saving image to /home/tensorboy/Desktop/ecdf_0_cdfY\n",
      "Figure size: [2.  1.5]\n",
      "saving image to /home/tensorboy/Desktop/ecdf_0_pdfY\n",
      "Figure size: [2.  1.5]\n",
      "saving image to /home/tensorboy/Desktop/ecdf_1_pdfX\n",
      "Figure size: [2.  1.5]\n",
      "saving image to /home/tensorboy/Desktop/ecdf_1_cdfY\n",
      "Figure size: [2.  1.5]\n",
      "saving image to /home/tensorboy/Desktop/ecdf_1_pdfY\n",
      "Figure size: [2.  1.5]\n",
      "saving image to /home/tensorboy/Desktop/ecdf_2_pdfX\n",
      "Figure size: [2.  1.5]\n",
      "saving image to /home/tensorboy/Desktop/ecdf_2_cdfY\n",
      "Figure size: [2.  1.5]\n",
      "saving image to /home/tensorboy/Desktop/ecdf_2_pdfY\n",
      "Figure size: [2.  1.5]\n"
     ]
    }
   ],
   "source": [
    "for idx, (dist, x, seed) in enumerate(zip(dists, xs, keys)):\n",
    "    draws = dist.sample(100000, seed=seed)\n",
    "    data = dist.cdf(draws)\n",
    "    plt.figure()\n",
    "    plt.plot(x, dist.prob(x))\n",
    "    if idx == 0:\n",
    "        plt.title(\"pdf(X)\")\n",
    "    # savefig(f\"ecdf_{idx}_pdfX\", dpi=300)\n",
    "\n",
    "    plt.figure()\n",
    "    plt.plot(jnp.sort(data), jnp.linspace(0, 1, len(data)))\n",
    "    if idx == 0:\n",
    "        plt.title(\"cdf(Y)\")\n",
    "    # savefig(f\"ecdf_{idx}_cdfY\", dpi=300)\n",
    "\n",
    "    fig, ax = plt.subplots()\n",
    "    az.plot_kde(data, ax=ax)\n",
    "    if idx == 0:\n",
    "        plt.title(\"pdf(Y)\")\n",
    "    # savefig(f\"ecdf_{idx}_pdfY\", dpi=300)"
   ]
  },
  {
   "cell_type": "code",
   "execution_count": null,
   "id": "0680b795",
   "metadata": {},
   "outputs": [],
   "source": []
  }
 ],
 "metadata": {
  "kernelspec": {
   "display_name": "Python 3.7.13 ('py3713')",
   "language": "python",
   "name": "python3"
  },
  "language_info": {
   "codemirror_mode": {
    "name": "ipython",
    "version": 3
   },
   "file_extension": ".py",
   "mimetype": "text/x-python",
   "name": "python",
   "nbconvert_exporter": "python",
   "pygments_lexer": "ipython3",
   "version": "3.7.13"
  },
  "vscode": {
   "interpreter": {
    "hash": "a787a6e8bcd3d3d3e4a766006c27db2c5a636d1b43e1d89cd16234e9a9c2591c"
   }
  }
 },
 "nbformat": 4,
 "nbformat_minor": 5
}
